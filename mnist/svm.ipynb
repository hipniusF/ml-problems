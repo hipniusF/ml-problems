{
 "cells": [
  {
   "cell_type": "code",
   "execution_count": 1,
   "id": "dd5edfc8",
   "metadata": {},
   "outputs": [],
   "source": [
    "from sklearn.svm import SVC\n",
    "from sklearn.metrics import classification_report\n",
    "import numpy as np\n",
    "from matplotlib import pyplot as plt\n",
    "from joblib import load, dump"
   ]
  },
  {
   "cell_type": "code",
   "execution_count": 2,
   "id": "82d57165",
   "metadata": {},
   "outputs": [],
   "source": [
    "# Download datasets if not present\n",
    "import os\n",
    "import requests as r\n",
    "import gzip\n",
    "\n",
    "if not os.path.exists('./dataset'):\n",
    "    os.makedirs('./dataset')\n",
    "    print('create')\n",
    "\n",
    "urls = [\n",
    "    'http://yann.lecun.com/exdb/mnist/train-images-idx3-ubyte.gz',\n",
    "    'http://yann.lecun.com/exdb/mnist/train-labels-idx1-ubyte.gz',\n",
    "    'http://yann.lecun.com/exdb/mnist/t10k-images-idx3-ubyte.gz',\n",
    "    'http://yann.lecun.com/exdb/mnist/t10k-labels-idx1-ubyte.gz'\n",
    "]\n",
    "\n",
    "file_names = []\n",
    "\n",
    "for url in urls:\n",
    "    file = './dataset/' + url.split('/')[-1]\n",
    "    file_names.append(file)\n",
    "\n",
    "    if os.path.exists(file):\n",
    "        continue\n",
    "        \n",
    "    res = r.get(url)\n",
    "    with open(file, 'wb') as f:\n",
    "        f.write(res.content)"
   ]
  },
  {
   "cell_type": "code",
   "execution_count": 3,
   "id": "1380365d",
   "metadata": {},
   "outputs": [
    {
     "name": "stdout",
     "output_type": "stream",
     "text": [
      "5\n"
     ]
    },
    {
     "data": {
      "image/png": "[encoded data removed]",
      "text/plain": [
       "<Figure size 432x288 with 1 Axes>"
      ]
     },
     "metadata": {
      "needs_background": "light"
     },
     "output_type": "display_data"
    }
   ],
   "source": [
    "# Load datasets in memory\n",
    "train_X = np.array([])\n",
    "train_y = np.array([])\n",
    "test_X = np.array([])\n",
    "test_y = np.array([])\n",
    "\n",
    "\n",
    "for file in file_names:\n",
    "    with gzip.open(file, 'r') as f:\n",
    "        if 'images' in file:\n",
    "            f.read(16)\n",
    "            buf = f.read()\n",
    "            data = np.frombuffer(buf, dtype=np.uint8).astype(np.float32).reshape(-1, 28, 28)\n",
    "            plt.imshow(data[0])\n",
    "            \n",
    "            if 'train' in file:\n",
    "                train_X = np.array(data)\n",
    "            else:\n",
    "                test_X = np.array(data)\n",
    "\n",
    "        else:\n",
    "            f.read(8)\n",
    "            buf = f.read()\n",
    "            data = np.frombuffer(buf, dtype=np.uint8).astype(np.int64)\n",
    "\n",
    "            if 'train' in file:\n",
    "                train_y = np.array(data)\n",
    "            else:\n",
    "                test_y = np.array(data)\n",
    "\n",
    "plt.imshow(train_X[0])\n",
    "print(train_y[0])\n",
    "\n",
    "train_X = train_X.reshape(-1, 28*28)\n",
    "test_X = test_X.reshape(-1, 28*28)"
   ]
  },
  {
   "cell_type": "code",
   "execution_count": 4,
   "id": "0775e280",
   "metadata": {},
   "outputs": [],
   "source": [
    "try:\n",
    "    model = load('model.joblib')\n",
    "except FileNotFoundError:\n",
    "    model = SVC(verbose=True, probability=True)\n",
    "    model.fit(train_X, train_y)"
   ]
  },
  {
   "cell_type": "code",
   "execution_count": 5,
   "id": "a5bffe25",
   "metadata": {
    "scrolled": true
   },
   "outputs": [
    {
     "data": {
      "text/plain": [
       "['model.joblib']"
      ]
     },
     "execution_count": 5,
     "metadata": {},
     "output_type": "execute_result"
    }
   ],
   "source": [
    "dump(model, 'model.joblib')"
   ]
  },
  {
   "cell_type": "code",
   "execution_count": 6,
   "id": "38033395",
   "metadata": {},
   "outputs": [
    {
     "data": {
      "text/plain": [
       "0.9792"
      ]
     },
     "execution_count": 6,
     "metadata": {},
     "output_type": "execute_result"
    }
   ],
   "source": [
    "model.score(test_X, test_y)"
   ]
  },
  {
   "cell_type": "code",
   "execution_count": 7,
   "id": "ae6d2507",
   "metadata": {},
   "outputs": [],
   "source": [
    "y_hat = model.predict(test_X)"
   ]
  },
  {
   "cell_type": "code",
   "execution_count": 8,
   "id": "5bf360fb",
   "metadata": {},
   "outputs": [],
   "source": [
    "out = model.predict_proba(test_X)"
   ]
  },
  {
   "cell_type": "code",
   "execution_count": 9,
   "id": "f17002c5",
   "metadata": {},
   "outputs": [
    {
     "name": "stdout",
     "output_type": "stream",
     "text": [
      "              precision    recall  f1-score   support\n",
      "\n",
      "           0       0.98      0.99      0.99       980\n",
      "           1       0.99      0.99      0.99      1135\n",
      "           2       0.98      0.97      0.98      1032\n",
      "           3       0.97      0.99      0.98      1010\n",
      "           4       0.98      0.98      0.98       982\n",
      "           5       0.99      0.98      0.98       892\n",
      "           6       0.99      0.99      0.99       958\n",
      "           7       0.98      0.97      0.97      1028\n",
      "           8       0.97      0.98      0.97       974\n",
      "           9       0.97      0.96      0.97      1009\n",
      "\n",
      "    accuracy                           0.98     10000\n",
      "   macro avg       0.98      0.98      0.98     10000\n",
      "weighted avg       0.98      0.98      0.98     10000\n",
      "\n"
     ]
    }
   ],
   "source": [
    "print(classification_report(test_y, y_hat))"
   ]
  }
 ],
 "metadata": {
  "kernelspec": {
   "display_name": "Python 3",
   "language": "python",
   "name": "python3"
  },
  "language_info": {
   "codemirror_mode": {
    "name": "ipython",
    "version": 3
   },
   "file_extension": ".py",
   "mimetype": "text/x-python",
   "name": "python",
   "nbconvert_exporter": "python",
   "pygments_lexer": "ipython3",
   "version": "3.9.7"
  }
 },
 "nbformat": 4,
 "nbformat_minor": 5
}

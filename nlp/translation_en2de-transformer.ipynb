{
 "cells": [
  {
   "cell_type": "code",
   "execution_count": 1,
   "id": "c9048c0f",
   "metadata": {},
   "outputs": [],
   "source": [
    "import torch\n",
    "from torch import nn\n",
    "from torch.utils.data import DataLoader\n",
    "from torchtext import data, datasets\n",
    "from matplotlib import pyplot as plt\n",
    "import numpy as np\n",
    "from tqdm.notebook import tqdm\n",
    "\n",
    "dev = 'cuda' if torch.cuda.is_available() else 'cpu'"
   ]
  },
  {
   "cell_type": "code",
   "execution_count": 2,
   "id": "97d6655d",
   "metadata": {},
   "outputs": [],
   "source": [
    "tokenize_en = data.get_tokenizer(\"spacy\", language='en_core_web_sm')\n",
    "tokenize_de = data.get_tokenizer(\"spacy\", language='de_core_news_sm')\n",
    "\n",
    "src = data.Field(tokenize_en)\n",
    "tgt = data.Field(tokenize_de)\n",
    "\n",
    "train, val, test = datasets.Multi30k.splits(\n",
    "    ('.en', '.de'), fields=(src, tgt) , root='./downloads')\n",
    "\n",
    "train.fields['src'].build_vocab(train)\n",
    "train.fields['trg'].build_vocab(train)"
   ]
  },
  {
   "cell_type": "code",
   "execution_count": 3,
   "id": "1bde43ce",
   "metadata": {},
   "outputs": [
    {
     "data": {
      "text/plain": [
       "torch.Size([29, 16])"
      ]
     },
     "execution_count": 3,
     "metadata": {},
     "output_type": "execute_result"
    }
   ],
   "source": [
    "def collate_fn(batch):\n",
    "    src_list, trg_list = [], []\n",
    "    for dt_pnt in batch:\n",
    "        src_list.append(dt_pnt.src)\n",
    "        trg_list.append(dt_pnt.trg)\n",
    "\n",
    "    src_list = train.fields['src'].pad(src_list)\n",
    "    trg_list = train.fields['trg'].pad(trg_list)\n",
    "\n",
    "    src_list = train.fields['src'].numericalize(src_list)\n",
    "    trg_list = train.fields['trg'].numericalize(trg_list)\n",
    "\n",
    "    return src_list, trg_list\n",
    "\n",
    "\n",
    "dl = DataLoader(\n",
    "    train, shuffle=True, batch_size=16, collate_fn=collate_fn)\n",
    "next(iter(dl))[0].shape"
   ]
  }
 ],
 "metadata": {
  "kernelspec": {
   "display_name": "Python 3 (ipykernel)",
   "language": "python",
   "name": "python3"
  },
  "language_info": {
   "codemirror_mode": {
    "name": "ipython",
    "version": 3
   },
   "file_extension": ".py",
   "mimetype": "text/x-python",
   "name": "python",
   "nbconvert_exporter": "python",
   "pygments_lexer": "ipython3",
   "version": "3.9.12"
  },
  "vscode": {
   "interpreter": {
    "hash": "e7cb1b9ae4d417fedf7f40a8eec98f7cfbd359e096bd857395a915f4609834ce"
   }
  }
 },
 "nbformat": 4,
 "nbformat_minor": 5
}

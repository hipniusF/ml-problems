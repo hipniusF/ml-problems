{
 "cells": [
  {
   "cell_type": "code",
   "execution_count": 1,
   "id": "c9048c0f",
   "metadata": {},
   "outputs": [],
   "source": [
    "import torch\n",
    "from torch import nn\n",
    "from matplotlib import pyplot as plt\n",
    "import numpy as np\n",
    "from tqdm.notebook import tqdm"
   ]
  },
  {
   "cell_type": "code",
   "execution_count": 2,
   "id": "1f1cadcf",
   "metadata": {},
   "outputs": [],
   "source": [
    "from pathlib import Path\n",
    "from urllib.request import urlopen\n",
    "import linecache\n",
    "from itertools import count\n",
    "import pickle\n",
    "\n",
    "class En2DeDataset(torch.utils.data.Dataset):\n",
    "    def __init__(self, folder_path, transform=None, download=False, train=True):\n",
    "        self.path = Path(folder_path)\n",
    "        self.train = train\n",
    "        self.transform = transform\n",
    "        self.train_en_url = 'https://nlp.stanford.edu/projects/nmt/data/wmt14.en-de/train.en'\n",
    "        self.train_de_url = 'https://nlp.stanford.edu/projects/nmt/data/wmt14.en-de/train.de'\n",
    "\n",
    "        self.test_en_url = 'https://nlp.stanford.edu/projects/nmt/data/wmt14.en-de/newstest2015.en'\n",
    "        self.test_de_url = 'https://nlp.stanford.edu/projects/nmt/data/wmt14.en-de/newstest2015.de'\n",
    "\n",
    "        self.length = 4_468_841 if train else 2_170\n",
    "        if download:\n",
    "            self.__download()\n",
    "        elif train:\n",
    "            with (self.path / 'vocabs').open('rb') as f:\n",
    "                self.vocabs = pickle.load(f)\n",
    "            \n",
    "    def __download(self):\n",
    "        self.path.mkdir(parents=True, exist_ok=True)\n",
    "        if self.train:\n",
    "            files = (('en', 'train.en', self.train_en_url),\n",
    "                     ('de', 'train.de', self.train_de_url))\n",
    "        else:\n",
    "            files = (('en', 'test.en', self.test_en_url),\n",
    "                     ('de', 'test.de', self.test_de_url))\n",
    "\n",
    "        self.vocabs = {'en': set(), 'de': set()}\n",
    "        for lang, file, url in files:\n",
    "            with urlopen(url) as webfile:\n",
    "                localpath = self.path / file\n",
    "                if localpath.exists():\n",
    "                    localpath.unlink()\n",
    "                with localpath.open(\"wb+\") as localfile:\n",
    "                    for i in tqdm(range(self.length)):\n",
    "                        line = webfile.readline()\n",
    "                        if self.train:\n",
    "                            self.vocabs[lang].update(line.decode(\"utf-8\").casefold().split(' '))\n",
    "                        localfile.write(line)\n",
    "                    assert(not line)\n",
    "        vocab_path = self.path / 'vocabs'\n",
    "        with vocab_path.open('wb') as f:\n",
    "            pickle.dump(self.vocabs, f)\n",
    "\n",
    "    def __len__(self):\n",
    "        return self.length\n",
    "\n",
    "    def __getitem__(self, idx):\n",
    "        files = ('train.en', 'train.de') if self.train else ('test.en', 'test.de')\n",
    "        line_path = self.path / files[0]\n",
    "        label_path = self.path / files[1]\n",
    "        if not line_path.exists() or not label_path.exists():\n",
    "            raise FileNotFoundError('Set download to True to download the dataset')\n",
    "        \n",
    "        line = linecache.getline(str(line_path.absolute()), idx)\n",
    "        label = linecache.getline(str(label_path.absolute()), idx)\n",
    "\n",
    "        if self.transform:\n",
    "            line = self.transform(line)\n",
    "            label = self.transform(label)\n",
    "        return line, label\n",
    "\n",
    "\n",
    "train_dataset = En2DeDataset('./downloads', download=False, train=True)\n",
    "test_dataset = En2DeDataset('./downloads', download=False, train=False)\n",
    "\n",
    "train_dtld = torch.utils.data.DataLoader(train_dataset, shuffle=True, batch_size=16)\n",
    "test_dtld = torch.utils.data.DataLoader(test_dataset, shuffle=True)\n",
    "\n",
    "a = next(iter(train_dtld))"
   ]
  },
  {
   "cell_type": "code",
   "execution_count": 3,
   "id": "02dde276",
   "metadata": {},
   "outputs": [],
   "source": [
    "from transformers.model import MultiHeadAttention, Transformer"
   ]
  },
  {
   "cell_type": "code",
   "execution_count": 4,
   "id": "c7795645",
   "metadata": {
    "scrolled": false
   },
   "outputs": [],
   "source": [
    "model = Transformer(input_vocab=train_dataset.vocabs['en'],\n",
    "                    output_vocab=train_dataset.vocabs['de'])"
   ]
  },
  {
   "cell_type": "code",
   "execution_count": 5,
   "id": "95f286fb",
   "metadata": {},
   "outputs": [
    {
     "data": {
      "text/plain": [
       "1530303"
      ]
     },
     "execution_count": 5,
     "metadata": {},
     "output_type": "execute_result"
    }
   ],
   "source": [
    "len(train_dataset.vocabs['de'])"
   ]
  },
  {
   "cell_type": "code",
   "execution_count": 6,
   "id": "a0cb5771",
   "metadata": {},
   "outputs": [
    {
     "data": {
      "text/plain": [
       "torch.Size([1, 1, 512])"
      ]
     },
     "execution_count": 6,
     "metadata": {},
     "output_type": "execute_result"
    }
   ],
   "source": [
    "model('Hola').shape"
   ]
  }
 ],
 "metadata": {
  "kernelspec": {
   "display_name": "Python 3.9.7 ('base')",
   "language": "python",
   "name": "python3"
  },
  "language_info": {
   "codemirror_mode": {
    "name": "ipython",
    "version": 3
   },
   "file_extension": ".py",
   "mimetype": "text/x-python",
   "name": "python",
   "nbconvert_exporter": "python",
   "pygments_lexer": "ipython3",
   "version": "3.9.7"
  },
  "vscode": {
   "interpreter": {
    "hash": "e7cb1b9ae4d417fedf7f40a8eec98f7cfbd359e096bd857395a915f4609834ce"
   }
  }
 },
 "nbformat": 4,
 "nbformat_minor": 5
}

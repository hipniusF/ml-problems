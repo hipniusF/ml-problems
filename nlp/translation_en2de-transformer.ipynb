{
 "cells": [
  {
   "cell_type": "code",
   "execution_count": 135,
   "id": "c9048c0f",
   "metadata": {},
   "outputs": [],
   "source": [
    "import torch\n",
    "from torch import nn\n",
    "from torch.utils.data import DataLoader\n",
    "from torchtext import data, datasets\n",
    "import spacy\n",
    "from matplotlib import pyplot as plt\n",
    "import numpy as np\n",
    "from tqdm.notebook import tqdm\n",
    "\n",
    "dev = 'cuda' if torch.cuda.is_available() else 'cpu'"
   ]
  },
  {
   "cell_type": "code",
   "execution_count": 144,
   "id": "4afa4b9e",
   "metadata": {
    "scrolled": false
   },
   "outputs": [
    {
     "data": {
      "text/plain": [
       "tensor([[6869],\n",
       "        [ 898],\n",
       "        [  12],\n",
       "        [1751],\n",
       "        [   1]])"
      ]
     },
     "execution_count": 144,
     "metadata": {},
     "output_type": "execute_result"
    }
   ],
   "source": [
    "tokenize_en = data.get_tokenizer(\"spacy\", language='en_core_web_sm')\n",
    "tokenize_de = data.get_tokenizer(\"spacy\", language='de_core_news_sm')\n",
    "\n",
    "src = data.Field(tokenize_en)\n",
    "tgt = data.Field(tokenize_de)\n",
    "\n",
    "train, val, test = datasets.Multi30k.splits(\n",
    "    ('.en', '.de'), fields=(src, tgt) , root='./downloads')\n",
    "\n",
    "src_list, trg_list = [], []\n",
    "for dt_pnt in train:\n",
    "    src_list.append(dt_pnt.src)\n",
    "    trg_list.append(dt_pnt.trg)\n",
    "\n",
    "train.fields['src'].build_vocab(src_list)\n",
    "train.fields['trg'].build_vocab(trg_list)\n",
    "train.fields['src'].numericalize([['hello', 'how', 'are', 'you', '<pad>']])"
   ]
  },
  {
   "cell_type": "code",
   "execution_count": 139,
   "id": "c77c6083",
   "metadata": {},
   "outputs": [
    {
     "data": {
      "text/plain": [
       "'hola'"
      ]
     },
     "execution_count": 139,
     "metadata": {},
     "output_type": "execute_result"
    }
   ],
   "source": [
    "spacy.load(\"de_core_news_sm\").tokenizer('hola').text"
   ]
  },
  {
   "cell_type": "code",
   "execution_count": 123,
   "id": "3e45ae81",
   "metadata": {},
   "outputs": [
    {
     "data": {
      "text/plain": [
       "'<pad>'"
      ]
     },
     "execution_count": 123,
     "metadata": {},
     "output_type": "execute_result"
    }
   ],
   "source": [
    "train.fields['src'].pad_token"
   ]
  },
  {
   "cell_type": "code",
   "execution_count": 8,
   "id": "45fd52e5",
   "metadata": {},
   "outputs": [
    {
     "data": {
      "text/plain": [
       "15458"
      ]
     },
     "execution_count": 8,
     "metadata": {},
     "output_type": "execute_result"
    }
   ],
   "source": [
    "len(train.fields['src'].vocab)"
   ]
  },
  {
   "cell_type": "code",
   "execution_count": 10,
   "id": "9b5a275b",
   "metadata": {},
   "outputs": [],
   "source": [
    "def subsequent_mask(size):\n",
    "    \"Mask out subsequent positions.\"\n",
    "    attn_shape = (1, size, size)\n",
    "    subsequent_mask = np.triu(np.ones(attn_shape), k=1).astype('uint8')\n",
    "    return torch.from_numpy(subsequent_mask) == 0"
   ]
  },
  {
   "cell_type": "code",
   "execution_count": 196,
   "id": "673286f0",
   "metadata": {},
   "outputs": [
    {
     "data": {
      "text/plain": [
       "[torch.Size([14, 8]),\n",
       " torch.Size([14, 8]),\n",
       " torch.Size([14, 1, 8]),\n",
       " torch.Size([14, 8, 8])]"
      ]
     },
     "execution_count": 196,
     "metadata": {},
     "output_type": "execute_result"
    }
   ],
   "source": [
    "def collate_fn(batch):\n",
    "    src_list, trg_list = [], []\n",
    "    for dt_pnt in batch:\n",
    "        src_list.append(dt_pnt.src)\n",
    "        trg_list.append(dt_pnt.trg)\n",
    "\n",
    "    src_list = train.fields['src'].pad(src_list)\n",
    "    trg_list = train.fields['trg'].pad(trg_list)\n",
    "\n",
    "    src_list = train.fields['src'].numericalize(src_list)\n",
    "    trg_list = train.fields['trg'].numericalize(trg_list)\n",
    "    pad = 1\n",
    "    src_mask = (src_list != pad).unsqueeze(-2)\n",
    "    trg_mask = (trg_list != pad).unsqueeze(-2)\n",
    "\n",
    "    trg_mask = trg_mask & subsequent_mask(\n",
    "        trg_list.size(-1)).type_as(trg_mask.data)\n",
    "    \n",
    "    return src_list, trg_list, src_mask, trg_mask\n",
    "\n",
    "\n",
    "dl = DataLoader(\n",
    "    train, shuffle=False, batch_size=8, collate_fn=collate_fn)\n",
    "[a.shape for a in next(iter(dl))]"
   ]
  },
  {
   "cell_type": "code",
   "execution_count": 5,
   "id": "181d7d65",
   "metadata": {},
   "outputs": [],
   "source": [
    "from transformers.model import EncoderDecoder\n",
    "\n",
    "model = EncoderDecoder(\n",
    "    len(train.fields['src'].vocab),\n",
    "    len(train.fields['trg'].vocab))"
   ]
  }
 ],
 "metadata": {
  "kernelspec": {
   "display_name": "Python 3 (ipykernel)",
   "language": "python",
   "name": "python3"
  },
  "language_info": {
   "codemirror_mode": {
    "name": "ipython",
    "version": 3
   },
   "file_extension": ".py",
   "mimetype": "text/x-python",
   "name": "python",
   "nbconvert_exporter": "python",
   "pygments_lexer": "ipython3",
   "version": "3.9.12"
  },
  "vscode": {
   "interpreter": {
    "hash": "e7cb1b9ae4d417fedf7f40a8eec98f7cfbd359e096bd857395a915f4609834ce"
   }
  }
 },
 "nbformat": 4,
 "nbformat_minor": 5
}

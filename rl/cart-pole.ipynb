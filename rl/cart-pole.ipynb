{
 "cells": [
  {
   "cell_type": "code",
   "execution_count": 1,
   "id": "f8c37866",
   "metadata": {},
   "outputs": [],
   "source": [
    "import gym\n",
    "import numpy as np\n",
    "from time import sleep\n",
    "from tqdm.notebook import trange"
   ]
  },
  {
   "cell_type": "code",
   "execution_count": 5,
   "id": "a961f3c7",
   "metadata": {},
   "outputs": [
    {
     "data": {
      "text/plain": [
       "[42]"
      ]
     },
     "execution_count": 5,
     "metadata": {},
     "output_type": "execute_result"
    }
   ],
   "source": [
    "env = gym.make(\"CartPole-v1\")\n",
    "env.action_space.seed(42)"
   ]
  },
  {
   "cell_type": "code",
   "execution_count": 3,
   "id": "97212760",
   "metadata": {
    "scrolled": false
   },
   "outputs": [],
   "source": [
    "# Random agent\n",
    "observation, info = env.reset(seed=42, return_info=True)\n",
    "for _ in range(100):\n",
    "    observation, reward, done, info = env.step(env.action_space.sample())\n",
    "    env.render()\n",
    "\n",
    "    if done:\n",
    "        observation, info = env.reset(return_info=True)\n",
    "#     sleep(.1)"
   ]
  },
  {
   "cell_type": "code",
   "execution_count": 4,
   "id": "283920ed",
   "metadata": {},
   "outputs": [],
   "source": [
    "# Alternative movement agent\n",
    "next = 1\n",
    "observation, info = env.reset(seed=42, return_info=True)\n",
    "for _ in range(100):\n",
    "    observation, reward, done, info = env.step(next)\n",
    "    env.render()\n",
    "    next = 0 if next == 1 else 1\n",
    "    if done:\n",
    "        observation, info = env.reset(return_info=True)\n",
    "#     sleep(.1)"
   ]
  }
 ],
 "metadata": {
  "kernelspec": {
   "display_name": "Python 3 (ipykernel)",
   "language": "python",
   "name": "python3"
  },
  "language_info": {
   "codemirror_mode": {
    "name": "ipython",
    "version": 3
   },
   "file_extension": ".py",
   "mimetype": "text/x-python",
   "name": "python",
   "nbconvert_exporter": "python",
   "pygments_lexer": "ipython3",
   "version": "3.9.7"
  }
 },
 "nbformat": 4,
 "nbformat_minor": 5
}

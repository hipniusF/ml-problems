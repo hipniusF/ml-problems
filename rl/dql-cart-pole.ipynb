{
 "cells": [
  {
   "cell_type": "code",
   "execution_count": 42,
   "id": "f8c37866",
   "metadata": {},
   "outputs": [],
   "source": [
    "import random\n",
    "import math\n",
    "from time import sleep\n",
    "from itertools import count\n",
    "from collections import deque, namedtuple\n",
    "from tqdm.notebook import trange, tqdm\n",
    "import gym\n",
    "import numpy as np\n",
    "from matplotlib import pyplot as plt\n",
    "import torch\n",
    "from torch import nn\n",
    "dev = 'cuda' if torch.cuda.is_available() else 'cpu'\n",
    "to_tensor = lambda x: torch.tensor(x, device=dev)"
   ]
  },
  {
   "cell_type": "code",
   "execution_count": 43,
   "id": "a961f3c7",
   "metadata": {},
   "outputs": [
    {
     "data": {
      "text/plain": [
       "array([ 0.02247142,  0.00836565, -0.03265321,  0.01168408], dtype=float32)"
      ]
     },
     "execution_count": 43,
     "metadata": {},
     "output_type": "execute_result"
    }
   ],
   "source": [
    "env = gym.make(\"CartPole-v1\")\n",
    "env.reset()"
   ]
  },
  {
   "cell_type": "code",
   "execution_count": 44,
   "id": "97212760",
   "metadata": {},
   "outputs": [],
   "source": [
    "# Play\n",
    "def play(policy, runs=50, wait=0):\n",
    "    for _ in trange(runs):\n",
    "        state = env.reset()\n",
    "        for _ in count():\n",
    "            state, reward, done, info = env.step(policy(state))\n",
    "            env.render()\n",
    "\n",
    "            if done:\n",
    "                break\n",
    "            sleep(wait)"
   ]
  },
  {
   "cell_type": "code",
   "execution_count": 45,
   "id": "e96c658c",
   "metadata": {},
   "outputs": [],
   "source": [
    "Transition = namedtuple('Transition', ('state', 'action', 'next_state', 'reward', 'done'))\n",
    "\n",
    "class ReplayMemory:\n",
    "    def __init__(self, capacity):\n",
    "        self.queue = deque([], maxlen=capacity)\n",
    "        \n",
    "    def __len__(self):\n",
    "        return len(self.queue)\n",
    "        \n",
    "    def push(self, *args):\n",
    "        self.queue.append(Transition(*args))\n",
    "\n",
    "    def sample(self, batchsize):\n",
    "        return random.sample(self.queue, batchsize)"
   ]
  },
  {
   "cell_type": "code",
   "execution_count": 46,
   "id": "918dfbbb",
   "metadata": {},
   "outputs": [],
   "source": [
    "class DQN(nn.Module): # size(4) -> size(2)\n",
    "    def __init__(self):\n",
    "        super(DQN, self).__init__()\n",
    "        self.l = nn.Sequential(\n",
    "            nn.Linear(4, 512),\n",
    "            nn.ReLU(inplace=True),\n",
    "            nn.Linear(512, 256),\n",
    "            nn.ReLU(inplace=True),\n",
    "            nn.Linear(256, 128),\n",
    "            nn.ReLU(inplace=True),\n",
    "            nn.Linear(128, 2)\n",
    "        )\n",
    "        \n",
    "    def forward(self, x):\n",
    "        return self.l(x)\n",
    "\n",
    "\n",
    "net = DQN().to(dev)\n",
    "target_net = DQN().to(dev)\n",
    "memory = ReplayMemory(10000)\n",
    "target_net.load_state_dict(net.state_dict())"
   ]
  },
  {
   "cell_type": "code",
   "execution_count": 47,
   "id": "7b5df7d6",
   "metadata": {},
   "outputs": [],
   "source": [
    "def optimize_model(memory, net, target_net, criterion, optim):\n",
    "    # Update weights\n",
    "    transition_batch = memory.sample(BS)\n",
    "\n",
    "    states = to_tensor(np.array([batch[0] for batch in transition_batch]))\n",
    "    next_states = to_tensor(np.array([batch[2] for batch in transition_batch]))\n",
    "    future_q = target_net(next_states)\n",
    "    \n",
    "    Y = net(states)\n",
    "    for i, (state, action, next_state, reward, done) in enumerate(transition_batch):\n",
    "        reward = to_tensor(reward)\n",
    "    \n",
    "        y = reward if done else reward + gamma*torch.max(future_q[i])\n",
    "        Y[i][action] = y\n",
    "\n",
    "    for p in net.parameters():\n",
    "        p.grad = None\n",
    "    loss = criterion(Y, net(states))\n",
    "\n",
    "    loss.backward()\n",
    "    optim.step()\n",
    "    return loss.item()"
   ]
  },
  {
   "cell_type": "code",
   "execution_count": 53,
   "id": "d89a5947",
   "metadata": {
    "scrolled": false
   },
   "outputs": [
    {
     "data": {
      "application/vnd.jupyter.widget-view+json": {
       "model_id": "46dbaa05915a4f8f9ce62060f7188a46",
       "version_major": 2,
       "version_minor": 0
      },
      "text/plain": [
       "  0%|          | 0/200 [00:00<?, ?it/s]"
      ]
     },
     "metadata": {},
     "output_type": "display_data"
    }
   ],
   "source": [
    "n_episodes = 200\n",
    "gamma = 0.9\n",
    "BS = 64\n",
    "C = 5 # update target\n",
    "\n",
    "losses = []\n",
    "rewards = [0] * n_episodes\n",
    "\n",
    "EPS_START = 0.9\n",
    "EPS_END = 0.05\n",
    "EPS_DECAY = 50\n",
    "get_eps = lambda steps_done: EPS_END + (EPS_START - EPS_END) * \\\n",
    "        math.exp(-1. * steps_done / EPS_DECAY)\n",
    "\n",
    "criterion = nn.MSELoss()\n",
    "optim = torch.optim.RMSprop(net.parameters(), lr=1e-4, eps=.01)\n",
    "\n",
    "steps_done = 0\n",
    "target_count = 0\n",
    "for episode in (tr := trange(n_episodes)):\n",
    "#     env.render()\n",
    "    state = to_tensor(env.reset())\n",
    "    for t in count():\n",
    "        tr.set_description(f'Step {t}')\n",
    "        eps_threshold = get_eps(steps_done)\n",
    "        steps_done += 1\n",
    "        \n",
    "        if np.random.uniform(0, 1) < eps_threshold:\n",
    "            action = env.action_space.sample()\n",
    "        else:\n",
    "            action = torch.argmax(net(state)).item()\n",
    "        next_state, reward, done, info = env.step(action)\n",
    "        rewards[episode] += reward\n",
    "        memory.push(state.cpu().numpy(), action, next_state, reward, done)\n",
    "\n",
    "        if len(memory) >= BS:\n",
    "            loss = optimize_model(memory, net, target_net, criterion, optim)\n",
    "            losses.append(loss)\n",
    "        state = to_tensor(next_state)\n",
    "        if target_count >= C:\n",
    "            target_net.load_state_dict(net.state_dict())\n",
    "            target_count = 0\n",
    "        else:\n",
    "            target_count += 1\n",
    "        if done:\n",
    "            break"
   ]
  },
  {
   "cell_type": "code",
   "execution_count": 54,
   "id": "0b66d4c0",
   "metadata": {},
   "outputs": [
    {
     "data": {
      "text/plain": [
       "0.00444903480965877"
      ]
     },
     "execution_count": 54,
     "metadata": {},
     "output_type": "execute_result"
    },
    {
     "data": {
      "image/png": "[encoded data removed]",
      "text/plain": [
       "<Figure size 1080x432 with 2 Axes>"
      ]
     },
     "metadata": {
      "needs_background": "light"
     },
     "output_type": "display_data"
    }
   ],
   "source": [
    "fig, axs = plt.subplots(1, 2)\n",
    "fig.set_size_inches(15, 6, forward=True)\n",
    "\n",
    "axs[0].plot(losses, label='losses')\n",
    "axs[1].plot(rewards, label='rewards')\n",
    "\n",
    "[ax.legend() for ax in axs]\n",
    "np.array(losses[-100:]).mean()"
   ]
  },
  {
   "cell_type": "code",
   "execution_count": 55,
   "id": "dd18d0da",
   "metadata": {},
   "outputs": [
    {
     "data": {
      "application/vnd.jupyter.widget-view+json": {
       "model_id": "90b72add81ef43c58fd7fc7aaab517d8",
       "version_major": 2,
       "version_minor": 0
      },
      "text/plain": [
       "  0%|          | 0/10 [00:00<?, ?it/s]"
      ]
     },
     "metadata": {},
     "output_type": "display_data"
    }
   ],
   "source": [
    "def policy(state):\n",
    "     return torch.argmax(net(to_tensor(state))).item()\n",
    "play(policy, runs=10, wait=0)"
   ]
  }
 ],
 "metadata": {
  "kernelspec": {
   "display_name": "Python 3 (ipykernel)",
   "language": "python",
   "name": "python3"
  },
  "language_info": {
   "codemirror_mode": {
    "name": "ipython",
    "version": 3
   },
   "file_extension": ".py",
   "mimetype": "text/x-python",
   "name": "python",
   "nbconvert_exporter": "python",
   "pygments_lexer": "ipython3",
   "version": "3.9.7"
  }
 },
 "nbformat": 4,
 "nbformat_minor": 5
}

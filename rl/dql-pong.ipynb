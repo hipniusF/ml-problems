{
 "cells": [
  {
   "cell_type": "code",
   "execution_count": 1,
   "id": "f8c37866",
   "metadata": {
    "tags": []
   },
   "outputs": [],
   "source": [
    "import random\n",
    "import math\n",
    "from time import sleep, time\n",
    "from itertools import count\n",
    "from collections import deque, namedtuple\n",
    "from tqdm.notebook import trange, tqdm\n",
    "try:\n",
    "    import gym\n",
    "except ModuleNotFoundError:\n",
    "    !pip install gym\n",
    "    !pip install ale-py\n",
    "    !pip install gym[atari]\n",
    "    !pip install gym[accept-rom-license]\n",
    "    import gym\n",
    "import numpy as np\n",
    "from matplotlib import pyplot as plt\n",
    "import torch\n",
    "from torch import nn\n",
    "from torchvision import transforms\n",
    "dev = 'cuda' if torch.cuda.is_available() else 'cpu'\n",
    "to_tensor = lambda x: torch.tensor(x, device=dev)"
   ]
  },
  {
   "cell_type": "code",
   "execution_count": 2,
   "id": "a961f3c7",
   "metadata": {},
   "outputs": [
    {
     "name": "stderr",
     "output_type": "stream",
     "text": [
      "A.L.E: Arcade Learning Environment (version 0.7.5+db37282)\n",
      "[Powered by Stella]\n",
      "/usr/local/lib/python3.9/dist-packages/gym/core.py:329: DeprecationWarning: \u001b[33mWARN: Initializing wrapper in old step API which returns one bool instead of two. It is recommended to set `new_step_api=True` to use new step API. This will be the default behaviour in future.\u001b[0m\n",
      "  deprecation(\n",
      "/usr/local/lib/python3.9/dist-packages/gym/wrappers/step_api_compatibility.py:39: DeprecationWarning: \u001b[33mWARN: Initializing environment in old step API which returns one bool instead of two. It is recommended to set `new_step_api=True` to use new step API. This will be the default behaviour in future.\u001b[0m\n",
      "  deprecation(\n"
     ]
    }
   ],
   "source": [
    "env = gym.make(\"ALE/Pong-v5\", repeat_action_probability=0)\n",
    "state = env.reset()"
   ]
  },
  {
   "cell_type": "code",
   "execution_count": 3,
   "id": "97212760",
   "metadata": {},
   "outputs": [],
   "source": [
    "# Play\n",
    "def play(policy, runs=50, wait=0):\n",
    "    for _ in trange(runs):\n",
    "        state = env.reset()\n",
    "        for _ in count():\n",
    "            state, reward, done, info = env.step(policy(state))\n",
    "            plt.imshow(env.render(mode='rgb_array'))\n",
    "\n",
    "            if done:\n",
    "                break\n",
    "            sleep(wait)"
   ]
  },
  {
   "cell_type": "code",
   "execution_count": 4,
   "id": "e96c658c",
   "metadata": {},
   "outputs": [],
   "source": [
    "Transition = namedtuple('Transition', ('state', 'action', 'next_state', 'reward', 'done'))\n",
    "\n",
    "class ReplayMemory:\n",
    "    def __init__(self, capacity):\n",
    "        self.queue = deque([], maxlen=capacity)\n",
    "        \n",
    "    def __len__(self):\n",
    "        return len(self.queue)\n",
    "        \n",
    "    def push(self, *args):\n",
    "        self.queue.append(Transition(*args))\n",
    "\n",
    "    def sample(self, batchsize):\n",
    "        return random.sample(self.queue, batchsize)"
   ]
  },
  {
   "cell_type": "code",
   "execution_count": 5,
   "id": "2cc960e9-aa7a-4b0b-9121-1895b98a38b4",
   "metadata": {},
   "outputs": [],
   "source": [
    "def save(net, losses, rewards):\n",
    "    torch.save({\n",
    "        'net': net.state_dict(),\n",
    "        'losses': losses,\n",
    "        'rewards': rewards\n",
    "    }, 'chkpnt.pt')\n",
    "\n",
    "def load():\n",
    "    chkpnt = torch.load('./chkpnt.pt', map_location=torch.device(dev))\n",
    "    return chkpnt['net'], chkpnt['losses'], chkpnt['rewards']"
   ]
  },
  {
   "cell_type": "code",
   "execution_count": 6,
   "id": "918dfbbb",
   "metadata": {},
   "outputs": [
    {
     "data": {
      "text/plain": [
       "<All keys matched successfully>"
      ]
     },
     "execution_count": 6,
     "metadata": {},
     "output_type": "execute_result"
    }
   ],
   "source": [
    "class DQN(nn.Module): # size((210, 160, 3)) -> size(6)\n",
    "    def __init__(self):\n",
    "        super(DQN, self).__init__()\n",
    "        self.conv = nn.Sequential(\n",
    "            nn.Conv2d(1, 32, 8, 4),\n",
    "            nn.BatchNorm2d(32),\n",
    "            nn.ReLU(inplace=True),\n",
    "            nn.Conv2d(32, 32, 4, 2),\n",
    "            nn.BatchNorm2d(32),\n",
    "            nn.ReLU(inplace=True),\n",
    "            nn.Conv2d(32, 64, 3, 1),\n",
    "            nn.BatchNorm2d(64),\n",
    "            nn.ReLU(inplace=True)\n",
    "        )\n",
    "        self.l = nn.Sequential(\n",
    "            nn.Linear(3136, 512),\n",
    "            nn.ReLU(inplace=True),\n",
    "            nn.Linear(512, env.action_space.n)\n",
    "        )\n",
    "        self.flat = nn.Flatten()\n",
    "        self.transformations = transforms.Compose([\n",
    "            transforms.ToTensor(),\n",
    "            transforms.Grayscale(),\n",
    "            transforms.Resize((110, 84)),\n",
    "            transforms.CenterCrop((84, 84))\n",
    "        ])\n",
    "    \n",
    "    def transforms(self, x):\n",
    "        return self.transformations(x).to(dev)\n",
    "    \n",
    "    def forward(self, x):\n",
    "        if len(x) < 4:\n",
    "            x = x.unsqueeze(0)\n",
    "        x = self.conv(x)\n",
    "        x = self.flat(x)\n",
    "        return self.l(x)\n",
    "\n",
    "\n",
    "net = DQN().to(dev)\n",
    "target_net = DQN().to(dev)\n",
    "memory = ReplayMemory(25000)\n",
    "losses = []\n",
    "rewards = []\n",
    "try:\n",
    "    state_dict, losses, rewards = load()\n",
    "    net.load_state_dict(state_dict)\n",
    "except FileNotFoundError:\n",
    "    pass\n",
    "target_net.load_state_dict(net.state_dict())\n",
    "# net(net.transforms(state)).shape"
   ]
  },
  {
   "cell_type": "code",
   "execution_count": 7,
   "id": "7b5df7d6",
   "metadata": {},
   "outputs": [],
   "source": [
    "def optimize_model(memory, net, target_net, criterion, optim):\n",
    "    # Update weights\n",
    "    transition_batch = memory.sample(BS)\n",
    "\n",
    "    states = to_tensor(np.array([(batch[0]) for batch in transition_batch]))\n",
    "    next_states = torch.cat(\n",
    "        [net.transforms(batch[2]).unsqueeze(0) for batch in transition_batch])\n",
    "    future_q = target_net(next_states)\n",
    "    \n",
    "    Y = net(states)\n",
    "    for i, (state, action, next_state, reward, done) in enumerate(transition_batch):\n",
    "        reward = to_tensor(reward)\n",
    "    \n",
    "        y = reward if done else reward + gamma*torch.max(future_q[i])\n",
    "        Y[i][action] = y\n",
    "\n",
    "    for p in net.parameters():\n",
    "        p.grad = None\n",
    "    loss = criterion(Y, net(states))\n",
    "\n",
    "    loss.backward()\n",
    "    optim.step()\n",
    "    return loss.item()"
   ]
  },
  {
   "cell_type": "code",
   "execution_count": 8,
   "id": "c48af6ae-2733-4837-b2c8-ac06e566ebb0",
   "metadata": {
    "tags": []
   },
   "outputs": [
    {
     "name": "stderr",
     "output_type": "stream",
     "text": [
      "/tmp/ipykernel_162/2645324160.py:8: RuntimeWarning: Mean of empty slice.\n",
      "  np.array(losses[-100:]).mean()\n",
      "/usr/local/lib/python3.9/dist-packages/numpy/core/_methods.py:190: RuntimeWarning: invalid value encountered in double_scalars\n",
      "  ret = ret.dtype.type(ret / rcount)\n"
     ]
    },
    {
     "data": {
      "text/plain": [
       "nan"
      ]
     },
     "execution_count": 8,
     "metadata": {},
     "output_type": "execute_result"
    },
    {
     "data": {
      "image/png": "[encoded data removed]",
      "text/plain": [
       "<Figure size 1080x432 with 2 Axes>"
      ]
     },
     "metadata": {
      "needs_background": "light"
     },
     "output_type": "display_data"
    }
   ],
   "source": [
    "fig, axs = plt.subplots(1, 2)\n",
    "fig.set_size_inches(15, 6, forward=True)\n",
    "\n",
    "axs[0].plot(losses, label='losses')\n",
    "axs[1].plot(rewards, label='rewards')\n",
    "\n",
    "[ax.legend() for ax in axs]\n",
    "np.array(losses[-100:]).mean()"
   ]
  },
  {
   "cell_type": "code",
   "execution_count": null,
   "id": "d89a5947",
   "metadata": {
    "tags": []
   },
   "outputs": [
    {
     "data": {
      "application/vnd.jupyter.widget-view+json": {
       "model_id": "502b1d9321d54bb199ba817b3e36d02b",
       "version_major": 2,
       "version_minor": 0
      },
      "text/plain": [
       "  0%|          | 0/1000 [00:00<?, ?it/s]"
      ]
     },
     "metadata": {},
     "output_type": "display_data"
    },
    {
     "name": "stderr",
     "output_type": "stream",
     "text": [
      "/usr/local/lib/python3.9/dist-packages/gym/utils/passive_env_checker.py:227: DeprecationWarning: \u001b[33mWARN: Core environment is written in old step API which returns one bool instead of two. It is recommended to rewrite the environment with new step API. \u001b[0m\n",
      "  logger.deprecation(\n"
     ]
    }
   ],
   "source": [
    "n_episodes = 1000\n",
    "gamma = 0.99\n",
    "BS = 64\n",
    "C = 1000 # update target\n",
    "\n",
    "EPS_START = 1\n",
    "EPS_END = 0.02\n",
    "EPS_DECAY = 0.00002\n",
    "get_eps = lambda steps_done: EPS_END + (EPS_START - EPS_END) * \\\n",
    "        math.exp(-1. * steps_done * EPS_DECAY)\n",
    "\n",
    "criterion = nn.MSELoss()\n",
    "optim = torch.optim.Adam(net.parameters(), lr=5e-5)\n",
    "\n",
    "steps_done = 0\n",
    "target_count = 0\n",
    "for episode in (tr := trange(len(rewards), n_episodes)):\n",
    "    rewards.append(0)\n",
    "    state = net.transforms(env.reset())\n",
    "    for t in count():\n",
    "        eps_threshold = get_eps(steps_done)\n",
    "        steps_done += 1\n",
    "        \n",
    "        if np.random.uniform(0, 1) < eps_threshold:\n",
    "            action = env.action_space.sample()\n",
    "        else:\n",
    "            action = torch.argmax(net(state)).item()\n",
    "        next_state, reward, done, info = env.step(action)\n",
    "        rewards[episode] += reward\n",
    "        memory.push(state.cpu().numpy(), action, next_state, reward, done)\n",
    "\n",
    "        if len(memory) >= BS:\n",
    "            loss = optimize_model(memory, net, target_net, criterion, optim)\n",
    "            losses.append(loss)\n",
    "            tr.set_description(f'Loss {loss:.4f}, Reward {rewards[-1]:04.1f}, Step {t:04d}')\n",
    "        else:\n",
    "            tr.set_description(f'Reward {rewards[-1]:04.1f}, Step {t:04d}')\n",
    "\n",
    "        state = net.transforms(next_state)\n",
    "        if target_count >= C:\n",
    "            target_net.load_state_dict(net.state_dict())\n",
    "            target_count = 0\n",
    "        else:\n",
    "            target_count += 1\n",
    "        if done:\n",
    "            break\n",
    "    save(net, losses, rewards)"
   ]
  },
  {
   "cell_type": "code",
   "execution_count": null,
   "id": "7bade07c-df2d-409f-a562-56576b341a95",
   "metadata": {},
   "outputs": [],
   "source": [
    "r = 1000 * 300\n",
    "plt.plot(range(r), [get_eps(x) for x in range(r)])"
   ]
  },
  {
   "cell_type": "code",
   "execution_count": null,
   "id": "0b66d4c0",
   "metadata": {
    "tags": []
   },
   "outputs": [],
   "source": [
    "fig, axs = plt.subplots(1, 2)\n",
    "fig.set_size_inches(15, 6, forward=True)\n",
    "\n",
    "axs[0].plot(losses, label='losses')\n",
    "axs[1].plot(rewards, label='rewards')\n",
    "\n",
    "[ax.legend() for ax in axs]\n",
    "np.array(losses[-100:]).mean()"
   ]
  },
  {
   "cell_type": "code",
   "execution_count": null,
   "id": "dd18d0da",
   "metadata": {},
   "outputs": [],
   "source": [
    "def policy(state):\n",
    "     return torch.argmax(net(net.transforms(state))).item()\n",
    "play(policy, runs=10, wait=0)"
   ]
  }
 ],
 "metadata": {
  "kernelspec": {
   "display_name": "Python 3 (ipykernel)",
   "language": "python",
   "name": "python3"
  },
  "language_info": {
   "codemirror_mode": {
    "name": "ipython",
    "version": 3
   },
   "file_extension": ".py",
   "mimetype": "text/x-python",
   "name": "python",
   "nbconvert_exporter": "python",
   "pygments_lexer": "ipython3",
   "version": "3.9.13"
  }
 },
 "nbformat": 4,
 "nbformat_minor": 5
}

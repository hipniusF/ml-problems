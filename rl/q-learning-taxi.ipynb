{
 "cells": [
  {
   "cell_type": "code",
   "execution_count": 1,
   "id": "56a02c80",
   "metadata": {},
   "outputs": [],
   "source": [
    "import gym\n",
    "import numpy as np\n",
    "from time import sleep\n",
    "from tqdm.notebook import trange"
   ]
  },
  {
   "cell_type": "code",
   "execution_count": 2,
   "id": "02230b70",
   "metadata": {},
   "outputs": [],
   "source": [
    "env = gym.make(\"Taxi-v3\")\n",
    "observation = env.reset()"
   ]
  },
  {
   "cell_type": "code",
   "execution_count": 3,
   "id": "18d0a173",
   "metadata": {},
   "outputs": [],
   "source": [
    "# Play game\n",
    "def play(policy, iterations=100, wait=False):\n",
    "    observation = env.reset()\n",
    "    for _ in trange(iterations):\n",
    "        env.render()\n",
    "        observation, reward, done, info = env.step(policy(observation))\n",
    "\n",
    "        if done:\n",
    "            observation = env.reset()\n",
    "        if wait:\n",
    "            sleep(1)"
   ]
  },
  {
   "cell_type": "code",
   "execution_count": 4,
   "id": "dab7c8f9",
   "metadata": {},
   "outputs": [],
   "source": [
    "# # Manual moves\n",
    "# state = env.step(5)\n",
    "# print(state)\n",
    "# env.render()\n",
    "# print(state[1], state[2], state[3])\n",
    "# [x for x in env.decode(state[0])]"
   ]
  },
  {
   "cell_type": "code",
   "execution_count": 5,
   "id": "8d43b518",
   "metadata": {},
   "outputs": [],
   "source": [
    "class Q_model:\n",
    "    def __init__(self, env, curr_state, lr=.4, df=.5, eps=.3):\n",
    "        self.env = env\n",
    "        self.state = curr_state\n",
    "        self.eps = eps\n",
    "        \n",
    "        n_states = env.observation_space.n\n",
    "        n_actions = env.action_space.n\n",
    "        self.table = np.zeros((n_states, n_actions))\n",
    "        self.lr = lr # [0..1]\n",
    "        self.df = df # [0..1]\n",
    "\n",
    "    def update_iteration(self, s_t, action):\n",
    "        s_t1, reward, done, info = env.step(action)\n",
    "        max_q = np.max(self.table[s_t1])\n",
    "        prev_q = self.table[s_t, action]\n",
    "\n",
    "        self.table[s_t, action] = (1-self.lr) * prev_q +  self.lr*(reward + self.df*max_q)\n",
    "        \n",
    "        return s_t1, reward, done, info\n",
    "        \n",
    "    def train_loop(self, epochs=1000000, render=False):\n",
    "        for _ in trange(epochs):\n",
    "            self.state = env.reset()\n",
    "            done = False\n",
    "            while not done:\n",
    "                if np.random.uniform(0, 1) < self.eps:\n",
    "                    action = self.env.action_space.sample()\n",
    "                else:\n",
    "                    action = np.argmax(self.table[self.state])\n",
    "\n",
    "                self.state, _, done, _ = self.update_iteration(self.state, action)\n",
    "                \n",
    "                if render:\n",
    "                    env.render()\n",
    "                \n",
    "    def get_move(self, state):\n",
    "        return np.argmax(self.table[state])\n",
    "\n",
    "model = Q_model(env, observation)"
   ]
  },
  {
   "cell_type": "code",
   "execution_count": 6,
   "id": "764e1e82",
   "metadata": {},
   "outputs": [
    {
     "data": {
      "application/vnd.jupyter.widget-view+json": {
       "model_id": "2f3b214d96ac4412b7f3f2d1fb8be566",
       "version_major": 2,
       "version_minor": 0
      },
      "text/plain": [
       "  0%|          | 0/10000 [00:00<?, ?it/s]"
      ]
     },
     "metadata": {},
     "output_type": "display_data"
    }
   ],
   "source": [
    "model.train_loop(epochs=10000, render=False)"
   ]
  },
  {
   "cell_type": "code",
   "execution_count": 7,
   "id": "cc9d74ad",
   "metadata": {},
   "outputs": [
    {
     "data": {
      "application/vnd.jupyter.widget-view+json": {
       "model_id": "76039be2d44e4eaaac59804d84ff247a",
       "version_major": 2,
       "version_minor": 0
      },
      "text/plain": [
       "  0%|          | 0/100 [00:00<?, ?it/s]"
      ]
     },
     "metadata": {},
     "output_type": "display_data"
    }
   ],
   "source": [
    "play(model.get_move)"
   ]
  },
  {
   "cell_type": "code",
   "execution_count": 8,
   "id": "0eae8c70",
   "metadata": {},
   "outputs": [],
   "source": [
    "env.close()"
   ]
  }
 ],
 "metadata": {
  "kernelspec": {
   "display_name": "Python 3 (ipykernel)",
   "language": "python",
   "name": "python3"
  },
  "language_info": {
   "codemirror_mode": {
    "name": "ipython",
    "version": 3
   },
   "file_extension": ".py",
   "mimetype": "text/x-python",
   "name": "python",
   "nbconvert_exporter": "python",
   "pygments_lexer": "ipython3",
   "version": "3.9.7"
  }
 },
 "nbformat": 4,
 "nbformat_minor": 5
}

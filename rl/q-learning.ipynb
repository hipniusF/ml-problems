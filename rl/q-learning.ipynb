{
 "cells": [
  {
   "cell_type": "code",
   "execution_count": 1,
   "id": "56a02c80",
   "metadata": {},
   "outputs": [],
   "source": [
    "import gym\n",
    "from time import sleep"
   ]
  },
  {
   "cell_type": "code",
   "execution_count": 2,
   "id": "02230b70",
   "metadata": {},
   "outputs": [],
   "source": [
    "env = gym.make(\"Taxi-v3\")"
   ]
  },
  {
   "cell_type": "code",
   "execution_count": 3,
   "id": "18d0a173",
   "metadata": {},
   "outputs": [],
   "source": [
    "# Iterative moves\n",
    "observation, info = env.reset(seed=42, return_info=True)\n",
    "next_ = 0\n",
    "for _ in range(1):\n",
    "    env.render()\n",
    "    observation, reward, done, info = env.step(next_)\n",
    "    next_ = (next_ + 1) % 6\n",
    "    \n",
    "    if done:\n",
    "        observation, info = env.reset(return_info=True)\n",
    "#     sleep(1)"
   ]
  },
  {
   "cell_type": "code",
   "execution_count": 4,
   "id": "dab7c8f9",
   "metadata": {},
   "outputs": [
    {
     "name": "stdout",
     "output_type": "stream",
     "text": [
      "-10 False {'prob': 1.0}\n"
     ]
    },
    {
     "data": {
      "text/plain": [
       "[4, 4, 1, 2]"
      ]
     },
     "execution_count": 4,
     "metadata": {},
     "output_type": "execute_result"
    }
   ],
   "source": [
    "# Manual moves\n",
    "state = env.step(5)\n",
    "env.render()\n",
    "print(state[1], state[2], state[3])\n",
    "[x for x in env.decode(state[0])]"
   ]
  },
  {
   "cell_type": "code",
   "execution_count": 5,
   "id": "0eae8c70",
   "metadata": {},
   "outputs": [],
   "source": [
    "env.close()"
   ]
  }
 ],
 "metadata": {
  "kernelspec": {
   "display_name": "Python 3",
   "language": "python",
   "name": "python3"
  },
  "language_info": {
   "codemirror_mode": {
    "name": "ipython",
    "version": 3
   },
   "file_extension": ".py",
   "mimetype": "text/x-python",
   "name": "python",
   "nbconvert_exporter": "python",
   "pygments_lexer": "ipython3",
   "version": "3.9.7"
  }
 },
 "nbformat": 4,
 "nbformat_minor": 5
}
